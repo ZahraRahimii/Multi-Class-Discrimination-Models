{
 "cells": [
  {
   "cell_type": "code",
   "execution_count": 2,
   "metadata": {},
   "outputs": [],
   "source": [
    "import pandas as pd\n",
    "import matplotlib.pyplot as plt\n",
    "import numpy as np\n",
    "from numpy import linalg\n",
    "from statistics import mean\n",
    "from sklearn.metrics import accuracy_score\n",
    "\n",
    "pd.options.mode.chained_assignment = None"
   ]
  },
  {
   "cell_type": "code",
   "execution_count": 53,
   "metadata": {},
   "outputs": [
    {
     "name": "stdout",
     "output_type": "stream",
     "text": [
      "           ω1        ω2        ω3        ω4     \n",
      "  Sample   x1   x2   x1   x2   x1   x2   x1   x2\n",
      "0      1  0.1  1.1  7.1  4.2 -3.0 -2.9 -2.0 -8.4\n",
      "1      2  6.8  7.1 -1.4 -4.3  0.5  8.7 -8.9  0.2\n",
      "2      3 -3.5 -4.1  4.5  0.0  2.9  2.1 -4.2 -7.7\n",
      "3      4  2.0  2.7  6.3  1.6 -0.1  5.2 -8.5 -3.2\n",
      "4      5  4.1  2.8  4.2  1.9 -4.0  2.2 -6.7 -4.0\n",
      "5      6  3.1  5.0  1.4 -3.2 -1.3  3.7 -0.5 -9.2\n",
      "6      7 -0.8 -1.3  2.4 -4.0 -3.4  6.2 -5.3 -6.7\n",
      "7      8  0.9  1.2  2.5 -6.1 -4.1  3.4 -8.7 -6.4\n",
      "8      9  5.0  6.4  8.4  3.7 -5.1  1.6 -7.1 -9.7\n",
      "9     10  3.9  4.0  4.1 -2.2  1.9  5.1 -8.0 -6.3\n",
      "MultiIndex([('ω1', 'x1'),\n",
      "            ('ω1', 'x2'),\n",
      "            ('ω2', 'x1'),\n",
      "            ('ω2', 'x2'),\n",
      "            ('ω3', 'x1'),\n",
      "            ('ω3', 'x2'),\n",
      "            ('ω4', 'x1'),\n",
      "            ('ω4', 'x2')],\n",
      "           )\n"
     ]
    }
   ],
   "source": [
    "df = pd.read_excel(\"Computer_Assignment_3_Data.xlsx\", header=[0, 1])\n",
    "print(df)\n",
    "if (' ', 'Sample') in df.columns:\n",
    "    df.drop(columns=[(' ', 'Sample')], inplace=True)\n",
    "print(df.columns)"
   ]
  },
  {
   "cell_type": "code",
   "execution_count": 54,
   "metadata": {},
   "outputs": [],
   "source": [
    "w1 = df.loc[:, 'ω1']\n",
    "w1['label'] = 0\n",
    "w2 = df.loc[:, 'ω2']\n",
    "w2['label'] = 1\n",
    "w3 = df.loc[:, 'ω3']\n",
    "w3['label'] = 0\n",
    "w4 = df.loc[:, 'ω4']\n",
    "w4['label'] = 3"
   ]
  },
  {
   "cell_type": "markdown",
   "metadata": {},
   "source": [
    "# Question 1"
   ]
  },
  {
   "cell_type": "code",
   "execution_count": 55,
   "metadata": {},
   "outputs": [],
   "source": [
    "def MSE(real, pred):\n",
    "    real = np.array(real)\n",
    "    pred = np.array(pred)\n",
    "    return np.mean((real - pred)**2)"
   ]
  },
  {
   "cell_type": "code",
   "execution_count": 56,
   "metadata": {},
   "outputs": [],
   "source": [
    "def PerceptronNetwork(X, y, lr, epochs):\n",
    "    errors = []\n",
    "    W = np.zeros(X.shape[1] + 1) \n",
    "    \n",
    "    X = np.hstack([X, np.ones((X.shape[0], 1))])\n",
    "    for _ in range(epochs):\n",
    "        z = X @ W\n",
    "        grad = X.T @ (z - y)\n",
    "        W -= lr * grad\n",
    "\n",
    "        temp = X @ W\n",
    "        predicted = (temp >= 0).astype(int)\n",
    "        errors.append(MSE(y, predicted))\n",
    "\n",
    "    return predicted, errors, W"
   ]
  },
  {
   "cell_type": "markdown",
   "metadata": {},
   "source": [
    "## question one: part a"
   ]
  },
  {
   "cell_type": "code",
   "execution_count": 57,
   "metadata": {},
   "outputs": [],
   "source": [
    "def select_dataset(subset):\n",
    "    w1, w2 = subset\n",
    "\n",
    "    w1_data = df.loc[:, w1]\n",
    "    w1_data['label'] = 0\n",
    "\n",
    "    w2_data = df.loc[:, w2]\n",
    "    w2_data['label'] = 1\n",
    "\n",
    "    X_train = pd.concat([w1_data.iloc[:, :-1], w2_data.iloc[:, :-1]]).to_numpy()\n",
    "    y_train = pd.concat([w1_data.iloc[:, -1], w2_data.iloc[:, -1]]).to_numpy()\n",
    "\n",
    "    return X_train, y_train"
   ]
  },
  {
   "cell_type": "code",
   "execution_count": 58,
   "metadata": {},
   "outputs": [],
   "source": [
    "def plot_errors(errors, title):\n",
    "    plt.xlabel('Epochs')\n",
    "    plt.ylabel('MSE Error')\n",
    "    plt.title(title)\n",
    "    plt.plot(errors, color='plum')\n",
    "    plt.show()"
   ]
  },
  {
   "cell_type": "code",
   "execution_count": 59,
   "metadata": {},
   "outputs": [],
   "source": [
    "X_train, y_train = select_dataset(['ω1', 'ω2'])\n",
    "shuffled_indices = np.random.permutation(len(X_train))\n",
    "X_train = X_train[shuffled_indices]\n",
    "y_train = y_train[shuffled_indices]"
   ]
  },
  {
   "cell_type": "code",
   "execution_count": 60,
   "metadata": {},
   "outputs": [
    {
     "name": "stdout",
     "output_type": "stream",
     "text": [
      "Predictions: [1 1 1 1 1 1 1 0 1 1 1 1 1 1 0 1 1 1 1 1]\n"
     ]
    },
    {
     "data": {
      "image/png": "[encoded data removed]",
      "text/plain": [
       "<Figure size 432x288 with 1 Axes>"
      ]
     },
     "metadata": {
      "needs_background": "light"
     },
     "output_type": "display_data"
    },
    {
     "name": "stdout",
     "output_type": "stream",
     "text": [
      "Error rate: 40.00%\n"
     ]
    }
   ],
   "source": [
    "output = PerceptronNetwork(X_train, y_train, lr=0.001, epochs=500)\n",
    "print('Predictions:', output[0])\n",
    "plot_errors(output[1], 'MSE error during each iteration (Part A)')\n",
    "print(f'Error rate: {100 * (1 - accuracy_score(y_train, output[0])):.2f}%')"
   ]
  },
  {
   "cell_type": "markdown",
   "metadata": {},
   "source": [
    "## question one: part B"
   ]
  },
  {
   "cell_type": "code",
   "execution_count": 61,
   "metadata": {},
   "outputs": [],
   "source": [
    "X_train, y_train = select_dataset(['ω3', 'ω2'])\n",
    "shuffled_indices = np.random.permutation(len(X_train))\n",
    "X_train = X_train[shuffled_indices]\n",
    "y_train = y_train[shuffled_indices]"
   ]
  },
  {
   "cell_type": "code",
   "execution_count": 62,
   "metadata": {},
   "outputs": [
    {
     "name": "stdout",
     "output_type": "stream",
     "text": [
      "Predictions: [0 1 1 1 1 1 1 1 0 0 1 1 1 0 0 1 1 1 1 1]\n"
     ]
    },
    {
     "data": {
      "image/png": "[encoded data removed]",
      "text/plain": [
       "<Figure size 432x288 with 1 Axes>"
      ]
     },
     "metadata": {
      "needs_background": "light"
     },
     "output_type": "display_data"
    },
    {
     "name": "stdout",
     "output_type": "stream",
     "text": [
      "Error rate: 25.00%\n"
     ]
    }
   ],
   "source": [
    "output = PerceptronNetwork(X_train, y_train, lr=0.005, epochs=500)\n",
    "print('Predictions:', output[0])\n",
    "plot_errors(output[1], 'MSE error during each iteration (Part B)')\n",
    "print(f'Error rate: {100 * (1 - accuracy_score(y_train, output[0])):.2f}%')"
   ]
  },
  {
   "cell_type": "markdown",
   "metadata": {},
   "source": [
    "# Question 2: part a"
   ]
  },
  {
   "cell_type": "code",
   "execution_count": 63,
   "metadata": {},
   "outputs": [],
   "source": [
    "def calculate_weights(X, y):\n",
    "    return linalg.inv(X.T @ X) @ X.T @ y"
   ]
  },
  {
   "cell_type": "code",
   "execution_count": 64,
   "metadata": {},
   "outputs": [
    {
     "name": "stdout",
     "output_type": "stream",
     "text": [
      "Weights: [ 0.19005967 -0.1529059 ]\n"
     ]
    }
   ],
   "source": [
    "X_train, y_train = select_dataset(['ω1', 'ω2'])\n",
    "weights = calculate_weights(X_train, y_train)\n",
    "print('Weights:', weights)"
   ]
  },
  {
   "cell_type": "code",
   "execution_count": 43,
   "metadata": {},
   "outputs": [
    {
     "name": "stdout",
     "output_type": "stream",
     "text": [
      "Error rate: 20.00%\n"
     ]
    }
   ],
   "source": [
    "predicted = (X_train @ weights >= 0).astype(int)\n",
    "print(f'Error rate: {100 * (1 - accuracy_score(y_train, predicted)):.2f}%')"
   ]
  },
  {
   "cell_type": "markdown",
   "metadata": {},
   "source": [
    "## Question 2: Part b"
   ]
  },
  {
   "cell_type": "code",
   "execution_count": 66,
   "metadata": {},
   "outputs": [
    {
     "name": "stdout",
     "output_type": "stream",
     "text": [
      "Weights: [ 0.12343884 -0.03158049]\n"
     ]
    }
   ],
   "source": [
    "X_train, y_train = select_dataset(['ω3', 'ω2'])\n",
    "weights = calculate_weights(X_train, y_train)\n",
    "print('Weights:', weights)"
   ]
  },
  {
   "cell_type": "code",
   "execution_count": 67,
   "metadata": {},
   "outputs": [
    {
     "name": "stdout",
     "output_type": "stream",
     "text": [
      "Error rate: 15.00%\n"
     ]
    }
   ],
   "source": [
    "predicted = (X_train @ weights >= 0).astype(int)\n",
    "print(f'Error rate: {100 * (1 - accuracy_score(y_train, predicted)):.2f}%')"
   ]
  },
  {
   "cell_type": "markdown",
   "metadata": {},
   "source": [
    "# Question 3"
   ]
  },
  {
   "cell_type": "code",
   "execution_count": 7,
   "metadata": {},
   "outputs": [],
   "source": [
    "def sigmoid(z):\n",
    "    return 1 / (1 + np.exp(-z))"
   ]
  },
  {
   "cell_type": "code",
   "execution_count": 8,
   "metadata": {},
   "outputs": [],
   "source": [
    "def cost_function(weight, x, y):\n",
    "    h = sigmoid(x @ weight)\n",
    "    m = len(y)\n",
    "    cost = 1 / m * np.sum(-y * np.log(h) - (1 - y) * np.log(1 - h))\n",
    "    grad = 1 / m * ((y - h) @ x)\n",
    "    return cost, grad"
   ]
  },
  {
   "cell_type": "code",
   "execution_count": 9,
   "metadata": {},
   "outputs": [],
   "source": [
    "def train(x, y, learning_rate, epochs):\n",
    "    x = np.append(x, np.ones([x.shape[0],1]), axis=1) \n",
    "   \n",
    "    weights = [] \n",
    "    classes = np.unique(y)\n",
    "    costs = np.zeros(epochs)\n",
    "\n",
    "    for c in classes: \n",
    "        binary_y = np.where(y == c, 1, 0)\n",
    "        \n",
    "        weight = np.zeros(x.shape[1])\n",
    "        for epoch in range(epochs):\n",
    "            costs[epoch], grad = cost_function(weight, x, binary_y)\n",
    "            weight -= learning_rate * grad\n",
    "            \n",
    "        weights.append(weight)\n",
    "    return weights, classes, costs"
   ]
  },
  {
   "cell_type": "code",
   "execution_count": 10,
   "metadata": {},
   "outputs": [],
   "source": [
    "def predict(classes, weights, x):\n",
    "    x = np.append(x, np.ones([x.shape[0],1]),axis=1) \n",
    "    pred = [np.argmax([sigmoid(i @ weight) for weight in weights]) for i in x]\n",
    "    return [classes[p] for p in pred]"
   ]
  },
  {
   "cell_type": "markdown",
   "metadata": {},
   "source": [
    "## Question 3: Part a"
   ]
  },
  {
   "cell_type": "code",
   "execution_count": 11,
   "metadata": {},
   "outputs": [],
   "source": [
    "def select_dataset2(subset):\n",
    "    w1 = df.loc[:, 'ω1']\n",
    "    w1['label'] = 0\n",
    "    w2 = df.loc[:, 'ω2']\n",
    "    w2['label'] = 1\n",
    "    w3 = df.loc[:, 'ω3']\n",
    "    w3['label'] = 0\n",
    "    w4 = df.loc[:, 'ω4']\n",
    "    w4['label'] = 3\n",
    "\n",
    "    X1_train = w1.iloc[:,:-1]\n",
    "    X2_train = w2.iloc[:,:-1]\n",
    "    X3_train = w3.iloc[:,:-1]\n",
    "    X4_train = w4.iloc[:,:-1]\n",
    "    X = pd.concat([X1_train, X2_train, X3_train, X4_train])\n",
    "\n",
    "    num_samples = len(X)\n",
    "    train_len = int(num_samples * 0.8)\n",
    "    shuffled_train_indices = np.random.permutation(train_len)\n",
    "    shuffled_test_indices = np.random.permutation(range(train_len, num_samples))\n",
    "\n",
    "    x_train_shuffled = X.iloc[shuffled_train_indices]\n",
    "    x_test_shuffled = X.iloc[shuffled_test_indices]\n",
    "    X_train = x_train_shuffled.to_numpy()\n",
    "    x_test = x_test_shuffled.to_numpy()\n",
    "\n",
    "    y1_train = w1.iloc[:,-1]\n",
    "    y2_train = w2.iloc[:,-1]\n",
    "    y3_train = w3.iloc[:,-1]\n",
    "    y4_train = w4.iloc[:,-1]\n",
    "    y = pd.concat([y1_train, y2_train, y3_train, y4_train])\n",
    "    y_train_shuffled = y.iloc[shuffled_train_indices]\n",
    "    y_test_shuffled = y.iloc[shuffled_test_indices]\n",
    "    y_train = y_train_shuffled.to_numpy()\n",
    "    y_test = y_test_shuffled.to_numpy()\n",
    "\n",
    "    return X_train, x_test, y_train, y_test"
   ]
  },
  {
   "cell_type": "code",
   "execution_count": 12,
   "metadata": {},
   "outputs": [
    {
     "name": "stdout",
     "output_type": "stream",
     "text": [
      "Predicted labels are:  [0, 0, 0, 0, 0, 0, 0, 0]\n"
     ]
    },
    {
     "name": "stderr",
     "output_type": "stream",
     "text": [
      "<ipython-input-8-a41f20f22380>:4: RuntimeWarning: divide by zero encountered in log\n",
      "  cost = 1 / m * np.sum(-y * np.log(h) - (1 - y) * np.log(1 - h))\n",
      "<ipython-input-8-a41f20f22380>:4: RuntimeWarning: invalid value encountered in multiply\n",
      "  cost = 1 / m * np.sum(-y * np.log(h) - (1 - y) * np.log(1 - h))\n"
     ]
    }
   ],
   "source": [
    "x_train, x_test, y_train, y_test = select_dataset2(['w1', 'w2', 'w3', 'w4'])\n",
    "\n",
    "weights, classes, costs = train(x_train, y_train, 0.01, 500)\n",
    "prediction = predict(classes, weights, x_test)\n",
    "print('Predicted labels are: ', prediction)"
   ]
  },
  {
   "cell_type": "code",
   "execution_count": 13,
   "metadata": {},
   "outputs": [
    {
     "name": "stdout",
     "output_type": "stream",
     "text": [
      "Error rate on test data is:100.00 %\n"
     ]
    }
   ],
   "source": [
    "from sklearn.metrics import accuracy_score\n",
    "print('Error rate on test data is:{:.2f}'.format((1-accuracy_score(prediction,y_test))*100),'%')"
   ]
  },
  {
   "cell_type": "markdown",
   "metadata": {},
   "source": [
    "# Question 3: Part b"
   ]
  },
  {
   "cell_type": "code",
   "execution_count": 14,
   "metadata": {},
   "outputs": [],
   "source": [
    "def select_dataset3(subset, test):\n",
    "    w1 = df.loc[:, 'ω1']\n",
    "    w1['label'] = 0\n",
    "    w2 = df.loc[:, 'ω2']\n",
    "    w2['label'] = 1\n",
    "    w3 = df.loc[:, 'ω3']\n",
    "    w3['label'] = 0\n",
    "    w4 = df.loc[:, 'ω4']\n",
    "    w4['label'] = 3\n",
    "\n",
    "    X1_train = w1.iloc[:,:-1]\n",
    "    X2_train = w2.iloc[:,:-1]\n",
    "    X3_train = w3.iloc[:,:-1]\n",
    "    X4_test = w4.iloc[:,:-1]\n",
    "    X = pd.concat([X1_train, X2_train, X3_train])\n",
    "\n",
    "    X_train = X.to_numpy()\n",
    "    x_test = X4_test.to_numpy()\n",
    "\n",
    "    y1_train = w1.iloc[:,-1]\n",
    "    y2_train = w2.iloc[:,-1]\n",
    "    y3_train = w3.iloc[:,-1]\n",
    "    y4_test = w4.iloc[:,-1]\n",
    "    y = pd.concat([y1_train, y2_train, y3_train])\n",
    "    y_train = y.to_numpy()\n",
    "    y_test = y4_test.to_numpy()\n",
    "\n",
    "    return X_train, x_test, y_train, y_test"
   ]
  },
  {
   "cell_type": "code",
   "execution_count": 15,
   "metadata": {},
   "outputs": [
    {
     "name": "stdout",
     "output_type": "stream",
     "text": [
      "Test set: w1\n",
      "Predicted labels are:  [0, 1, 0, 0, 0, 0, 0, 0, 0, 0]\n",
      "Error rate on test data is: 100.00%\n",
      "---\n",
      "Test set: w2\n",
      "Predicted labels are:  [0, 1, 0, 0, 0, 0, 0, 0, 0, 0]\n",
      "Error rate on test data is: 100.00%\n",
      "---\n",
      "Test set: w3\n",
      "Predicted labels are:  [0, 1, 0, 0, 0, 0, 0, 0, 0, 0]\n",
      "Error rate on test data is: 100.00%\n",
      "---\n",
      "Test set: w4\n",
      "Predicted labels are:  [0, 1, 0, 0, 0, 0, 0, 0, 0, 0]\n",
      "Error rate on test data is: 100.00%\n",
      "---\n"
     ]
    },
    {
     "name": "stderr",
     "output_type": "stream",
     "text": [
      "<ipython-input-8-a41f20f22380>:4: RuntimeWarning: divide by zero encountered in log\n",
      "  cost = 1 / m * np.sum(-y * np.log(h) - (1 - y) * np.log(1 - h))\n",
      "<ipython-input-8-a41f20f22380>:4: RuntimeWarning: invalid value encountered in multiply\n",
      "  cost = 1 / m * np.sum(-y * np.log(h) - (1 - y) * np.log(1 - h))\n",
      "<ipython-input-8-a41f20f22380>:4: RuntimeWarning: divide by zero encountered in log\n",
      "  cost = 1 / m * np.sum(-y * np.log(h) - (1 - y) * np.log(1 - h))\n",
      "<ipython-input-8-a41f20f22380>:4: RuntimeWarning: invalid value encountered in multiply\n",
      "  cost = 1 / m * np.sum(-y * np.log(h) - (1 - y) * np.log(1 - h))\n",
      "<ipython-input-8-a41f20f22380>:4: RuntimeWarning: divide by zero encountered in log\n",
      "  cost = 1 / m * np.sum(-y * np.log(h) - (1 - y) * np.log(1 - h))\n",
      "<ipython-input-8-a41f20f22380>:4: RuntimeWarning: invalid value encountered in multiply\n",
      "  cost = 1 / m * np.sum(-y * np.log(h) - (1 - y) * np.log(1 - h))\n",
      "<ipython-input-8-a41f20f22380>:4: RuntimeWarning: divide by zero encountered in log\n",
      "  cost = 1 / m * np.sum(-y * np.log(h) - (1 - y) * np.log(1 - h))\n",
      "<ipython-input-8-a41f20f22380>:4: RuntimeWarning: invalid value encountered in multiply\n",
      "  cost = 1 / m * np.sum(-y * np.log(h) - (1 - y) * np.log(1 - h))\n"
     ]
    }
   ],
   "source": [
    "tests = ['w1', 'w2', 'w3', 'w4']\n",
    "for test in tests:\n",
    "    x_train, x_test, y_train, y_test = select_dataset3(['w1', 'w2', 'w3', 'w4'], test)\n",
    "    \n",
    "    weights, classes, costs = train(x_train, y_train, 0.01, 500)\n",
    "    prediction = predict(classes, weights, x_test)\n",
    "\n",
    "    print(f'Test set: {test}')\n",
    "    print('Predicted labels are: ', prediction)\n",
    "    print('Error rate on test data is: {:.2f}%'.format((1 - accuracy_score(prediction, y_test)) * 100))\n",
    "    print('---')"
   ]
  },
  {
   "cell_type": "markdown",
   "metadata": {},
   "source": [
    "# Question 3: part c"
   ]
  },
  {
   "cell_type": "code",
   "execution_count": 25,
   "metadata": {},
   "outputs": [],
   "source": [
    "def find_ambiguous_regions(classes, weights, x):\n",
    "    x = np.append(x, np.ones([x.shape[0], 1]), axis=1)  # Add bias term\n",
    "    scores = np.array([[sigmoid(i @ weight) for weight in weights] for i in x])\n",
    "    max_scores = np.max(scores, axis=1)\n",
    "    ambiguity_indices = np.where(max_scores < 0.6)[0]  # Threshold for ambiguity\n",
    "    return ambiguity_indices, scores"
   ]
  },
  {
   "cell_type": "code",
   "execution_count": 26,
   "metadata": {},
   "outputs": [
    {
     "name": "stdout",
     "output_type": "stream",
     "text": [
      "Test set: w1\n",
      "Predicted labels are:  [0, 1, 0, 0, 0, 0, 0, 0, 0, 0]\n",
      "Error rate on test data is: 100.00%\n",
      "No ambiguous regions found.\n",
      "---\n",
      "Test set: w2\n",
      "Predicted labels are:  [0, 1, 0, 0, 0, 0, 0, 0, 0, 0]\n",
      "Error rate on test data is: 100.00%\n",
      "No ambiguous regions found.\n",
      "---\n",
      "Test set: w3\n",
      "Predicted labels are:  [0, 1, 0, 0, 0, 0, 0, 0, 0, 0]\n",
      "Error rate on test data is: 100.00%\n",
      "No ambiguous regions found.\n",
      "---\n",
      "Test set: w4\n",
      "Predicted labels are:  [0, 1, 0, 0, 0, 0, 0, 0, 0, 0]\n",
      "Error rate on test data is: 100.00%\n",
      "No ambiguous regions found.\n",
      "---\n"
     ]
    },
    {
     "name": "stderr",
     "output_type": "stream",
     "text": [
      "<ipython-input-8-a41f20f22380>:4: RuntimeWarning: divide by zero encountered in log\n",
      "  cost = 1 / m * np.sum(-y * np.log(h) - (1 - y) * np.log(1 - h))\n",
      "<ipython-input-8-a41f20f22380>:4: RuntimeWarning: invalid value encountered in multiply\n",
      "  cost = 1 / m * np.sum(-y * np.log(h) - (1 - y) * np.log(1 - h))\n",
      "<ipython-input-8-a41f20f22380>:4: RuntimeWarning: divide by zero encountered in log\n",
      "  cost = 1 / m * np.sum(-y * np.log(h) - (1 - y) * np.log(1 - h))\n",
      "<ipython-input-8-a41f20f22380>:4: RuntimeWarning: invalid value encountered in multiply\n",
      "  cost = 1 / m * np.sum(-y * np.log(h) - (1 - y) * np.log(1 - h))\n",
      "<ipython-input-8-a41f20f22380>:4: RuntimeWarning: divide by zero encountered in log\n",
      "  cost = 1 / m * np.sum(-y * np.log(h) - (1 - y) * np.log(1 - h))\n",
      "<ipython-input-8-a41f20f22380>:4: RuntimeWarning: invalid value encountered in multiply\n",
      "  cost = 1 / m * np.sum(-y * np.log(h) - (1 - y) * np.log(1 - h))\n",
      "<ipython-input-8-a41f20f22380>:4: RuntimeWarning: divide by zero encountered in log\n",
      "  cost = 1 / m * np.sum(-y * np.log(h) - (1 - y) * np.log(1 - h))\n",
      "<ipython-input-8-a41f20f22380>:4: RuntimeWarning: invalid value encountered in multiply\n",
      "  cost = 1 / m * np.sum(-y * np.log(h) - (1 - y) * np.log(1 - h))\n"
     ]
    }
   ],
   "source": [
    "tests = ['w1', 'w2', 'w3', 'w4']\n",
    "for test in tests:\n",
    "    x_train, x_test, y_train, y_test = select_dataset3(['w1', 'w2', 'w3', 'w4'], test)\n",
    "    \n",
    "    weights, classes, costs = train(x_train, y_train, 0.01, 500)\n",
    "    prediction = predict(classes, weights, x_test)\n",
    "\n",
    "    print(f'Test set: {test}')\n",
    "    print('Predicted labels are: ', prediction)\n",
    "    print('Error rate on test data is: {:.2f}%'.format((1 - accuracy_score(prediction, y_test)) * 100))\n",
    "\n",
    "    ambiguous_indices, scores = find_ambiguous_regions(classes, weights, x_test)\n",
    "    if len(ambiguous_indices) > 0:\n",
    "        print(f\"Ambiguous regions (indices): {ambiguous_indices}\")\n",
    "        print(f\"Scores for ambiguous regions: {scores[ambiguous_indices]}\")\n",
    "    else:\n",
    "        print(\"No ambiguous regions found.\")\n",
    "    print('---')"
   ]
  }
 ],
 "metadata": {
  "kernelspec": {
   "display_name": "Python 3",
   "language": "python",
   "name": "python3"
  },
  "language_info": {
   "codemirror_mode": {
    "name": "ipython",
    "version": 3
   },
   "file_extension": ".py",
   "mimetype": "text/x-python",
   "name": "python",
   "nbconvert_exporter": "python",
   "pygments_lexer": "ipython3",
   "version": "3.9.4"
  }
 },
 "nbformat": 4,
 "nbformat_minor": 2
}
